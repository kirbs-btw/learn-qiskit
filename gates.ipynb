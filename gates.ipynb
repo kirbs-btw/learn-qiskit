{
 "cells": [
  {
   "cell_type": "code",
   "execution_count": 1,
   "id": "9bb70d6e-52a0-40cd-8490-3d9264acc89b",
   "metadata": {
    "tags": []
   },
   "outputs": [
    {
     "name": "stderr",
     "output_type": "stream",
     "text": [
      "qiskit_runtime_service.__init__:INFO:2024-02-21 15:02:04,808: Default instance: ibm-q/open/main\n"
     ]
    }
   ],
   "source": [
    "# Importing standard Qiskit libraries\n",
    "from qiskit import QuantumCircuit, transpile\n",
    "from qiskit.tools.jupyter import *\n",
    "from qiskit.visualization import *\n",
    "from ibm_quantum_widgets import *\n",
    "\n",
    "# qiskit-ibmq-provider has been deprecated.\n",
    "# Please see the Migration Guides in https://ibm.biz/provider_migration_guide for more detail.\n",
    "from qiskit_ibm_runtime import QiskitRuntimeService, Sampler, Estimator, Session, Options\n",
    "\n",
    "# Loading your IBM Quantum account(s)\n",
    "service = QiskitRuntimeService(channel=\"ibm_quantum\")\n",
    "\n",
    "# Invoke a primitive. For more details see https://docs.quantum.ibm.com/run/primitives\n",
    "# result = Sampler().run(circuits).result()"
   ]
  },
  {
   "cell_type": "code",
   "execution_count": null,
   "id": "dca20a9e-b48f-45d8-8b63-abbf021106ca",
   "metadata": {},
   "outputs": [],
   "source": [
    "# gate types\n",
    "# H gate - qubit goes to superposition - or reverts to the state before the superposition\n",
    "# - half rotation alon the axis between x and z\n",
    "# messurement gate - collapses the wave function - \"sets\" a state - no superposition anymore\n",
    "# X gate not gate - 0 ti 1 1 to 0 - half rotation along x axis \n",
    "# Y gate half rotation at y axis\n",
    "# Z gate half rotation at z axis\n",
    "# Rx, Ry, Rz gate - rotation along the axis with a specific amount\n",
    "\n",
    "# testing in tomorrow...\n",
    "\n",
    "# ideas - using the H gate for a randomizer with statistical bias - h gate roations? \n",
    "# q - h - messure --> many q in binary or massure allong many points in the gate == some random number"
   ]
  }
 ],
 "metadata": {
  "kernelspec": {
   "display_name": "Qiskit v0.45.3 (ipykernel)",
   "language": "python",
   "name": "python3"
  },
  "language_info": {
   "codemirror_mode": {
    "name": "ipython",
    "version": 3
   },
   "file_extension": ".py",
   "mimetype": "text/x-python",
   "name": "python",
   "nbconvert_exporter": "python",
   "pygments_lexer": "ipython3",
   "version": "3.10.8"
  },
  "widgets": {
   "application/vnd.jupyter.widget-state+json": {
    "state": {
     "071d2925a0064461a6648b6835037dc6": {
      "model_module": "@jupyter-widgets/base",
      "model_module_version": "2.0.0",
      "model_name": "LayoutModel",
      "state": {
       "width": "95px"
      }
     },
     "1bf9c487ff9f4f37b20c16f044b21a37": {
      "model_module": "@jupyter-widgets/controls",
      "model_module_version": "2.0.0",
      "model_name": "ButtonModel",
      "state": {
       "button_style": "primary",
       "description": "Clear",
       "layout": "IPY_MODEL_751cedabef2748d9bf111b3c3f08f468",
       "style": "IPY_MODEL_c7246b82318442cc833b73aa170beea7",
       "tooltip": null
      }
     },
     "1e2bb2401985427099a01e6b0eb4945b": {
      "model_module": "@jupyter-widgets/controls",
      "model_module_version": "2.0.0",
      "model_name": "HTMLModel",
      "state": {
       "layout": "IPY_MODEL_24ecfc39aec84b6cbf47cf1101b3846a",
       "style": "IPY_MODEL_e08bf6385a5f4f6d9e0fff4e4eb2d7b9",
       "value": "<h5>Queue</h5>"
      }
     },
     "20d1b17548f6477cb1aaa1d272bca01b": {
      "model_module": "@jupyter-widgets/controls",
      "model_module_version": "2.0.0",
      "model_name": "HTMLModel",
      "state": {
       "layout": "IPY_MODEL_c9a3597774a94f24835e38f93221b220",
       "style": "IPY_MODEL_fc3dd3c51b5547178dbd2046699aa23e",
       "value": "<h5>Message</h5>"
      }
     },
     "24ecfc39aec84b6cbf47cf1101b3846a": {
      "model_module": "@jupyter-widgets/base",
      "model_module_version": "2.0.0",
      "model_name": "LayoutModel",
      "state": {
       "width": "70px"
      }
     },
     "30b85410adb7472e96d7ddb1435c8599": {
      "model_module": "@jupyter-widgets/base",
      "model_module_version": "2.0.0",
      "model_name": "LayoutModel",
      "state": {
       "width": "145px"
      }
     },
     "3dba0a72e4b34ea4843a389e8ba3ffd2": {
      "model_module": "@jupyter-widgets/base",
      "model_module_version": "2.0.0",
      "model_name": "LayoutModel",
      "state": {
       "width": "190px"
      }
     },
     "3dc518a564ce4bcc9d741c8697d4dc72": {
      "model_module": "@jupyter-widgets/base",
      "model_module_version": "2.0.0",
      "model_name": "LayoutModel",
      "state": {
       "margin": "0px 0px 0px 37px",
       "width": "600px"
      }
     },
     "508cebcbc4cc4bff898216ab3c3112ba": {
      "model_module": "@jupyter-widgets/controls",
      "model_module_version": "2.0.0",
      "model_name": "GridBoxModel",
      "state": {
       "children": [
        "IPY_MODEL_1bf9c487ff9f4f37b20c16f044b21a37"
       ],
       "layout": "IPY_MODEL_a4ce5084217c46a68f39d7dee79e4a8c"
      }
     },
     "61d2be20279a44d2a49521c249d34734": {
      "model_module": "@jupyter-widgets/base",
      "model_module_version": "2.0.0",
      "model_name": "LayoutModel",
      "state": {
       "margin": "0px 0px 10px 0px"
      }
     },
     "6f7171d8250744bd99b477669ae0fd34": {
      "model_module": "@jupyter-widgets/controls",
      "model_module_version": "2.0.0",
      "model_name": "HTMLModel",
      "state": {
       "layout": "IPY_MODEL_3dba0a72e4b34ea4843a389e8ba3ffd2",
       "style": "IPY_MODEL_6fa285fee8da43c4ad80fd9121a3a386",
       "value": "<h5>Job ID</h5>"
      }
     },
     "6fa285fee8da43c4ad80fd9121a3a386": {
      "model_module": "@jupyter-widgets/controls",
      "model_module_version": "2.0.0",
      "model_name": "HTMLStyleModel",
      "state": {
       "description_width": "",
       "font_size": null,
       "text_color": null
      }
     },
     "751cedabef2748d9bf111b3c3f08f468": {
      "model_module": "@jupyter-widgets/base",
      "model_module_version": "2.0.0",
      "model_name": "LayoutModel",
      "state": {
       "grid_area": "right",
       "padding": "0px 0px 0px 0px",
       "width": "70px"
      }
     },
     "8759aa6468dd4f77a4140bb9adabbb10": {
      "model_module": "@jupyter-widgets/controls",
      "model_module_version": "2.0.0",
      "model_name": "HTMLModel",
      "state": {
       "layout": "IPY_MODEL_071d2925a0064461a6648b6835037dc6",
       "style": "IPY_MODEL_c122d75227214a7eb984d0174404c1ff",
       "value": "<h5>Status</h5>"
      }
     },
     "a15f03fb4cf54461a9831aafedef7704": {
      "model_module": "@jupyter-widgets/controls",
      "model_module_version": "2.0.0",
      "model_name": "HTMLStyleModel",
      "state": {
       "description_width": "",
       "font_size": null,
       "text_color": null
      }
     },
     "a4ce5084217c46a68f39d7dee79e4a8c": {
      "model_module": "@jupyter-widgets/base",
      "model_module_version": "2.0.0",
      "model_name": "LayoutModel",
      "state": {
       "grid_template_areas": "\n                                       \". . . . right \"\n                                        ",
       "grid_template_columns": "20% 20% 20% 20% 20%",
       "width": "100%"
      }
     },
     "a9f2643909534cecbfaf17661f07a256": {
      "model_module": "@jupyter-widgets/controls",
      "model_module_version": "2.0.0",
      "model_name": "HTMLModel",
      "state": {
       "layout": "IPY_MODEL_30b85410adb7472e96d7ddb1435c8599",
       "style": "IPY_MODEL_a15f03fb4cf54461a9831aafedef7704",
       "value": "<h5>Backend</h5>"
      }
     },
     "c122d75227214a7eb984d0174404c1ff": {
      "model_module": "@jupyter-widgets/controls",
      "model_module_version": "2.0.0",
      "model_name": "HTMLStyleModel",
      "state": {
       "description_width": "",
       "font_size": null,
       "text_color": null
      }
     },
     "c34bdc0771d44e16ae0b5d739d5c8993": {
      "model_module": "@jupyter-widgets/controls",
      "model_module_version": "2.0.0",
      "model_name": "HTMLStyleModel",
      "state": {
       "description_width": "",
       "font_size": null,
       "text_color": null
      }
     },
     "c7246b82318442cc833b73aa170beea7": {
      "model_module": "@jupyter-widgets/controls",
      "model_module_version": "2.0.0",
      "model_name": "ButtonStyleModel",
      "state": {
       "font_family": null,
       "font_size": null,
       "font_style": null,
       "font_variant": null,
       "font_weight": null,
       "text_color": null,
       "text_decoration": null
      }
     },
     "c999c634448349309a2f77096682e296": {
      "model_module": "@jupyter-widgets/controls",
      "model_module_version": "2.0.0",
      "model_name": "HBoxModel",
      "state": {
       "children": [
        "IPY_MODEL_6f7171d8250744bd99b477669ae0fd34",
        "IPY_MODEL_a9f2643909534cecbfaf17661f07a256",
        "IPY_MODEL_8759aa6468dd4f77a4140bb9adabbb10",
        "IPY_MODEL_1e2bb2401985427099a01e6b0eb4945b",
        "IPY_MODEL_20d1b17548f6477cb1aaa1d272bca01b"
       ],
       "layout": "IPY_MODEL_3dc518a564ce4bcc9d741c8697d4dc72"
      }
     },
     "c9a3597774a94f24835e38f93221b220": {
      "model_module": "@jupyter-widgets/base",
      "model_module_version": "2.0.0",
      "model_name": "LayoutModel",
      "state": {}
     },
     "e08bf6385a5f4f6d9e0fff4e4eb2d7b9": {
      "model_module": "@jupyter-widgets/controls",
      "model_module_version": "2.0.0",
      "model_name": "HTMLStyleModel",
      "state": {
       "description_width": "",
       "font_size": null,
       "text_color": null
      }
     },
     "f1ee7241742e49d6b7583490ba59d928": {
      "model_module": "@jupyter-widgets/controls",
      "model_module_version": "2.0.0",
      "model_name": "HTMLModel",
      "state": {
       "layout": "IPY_MODEL_61d2be20279a44d2a49521c249d34734",
       "style": "IPY_MODEL_c34bdc0771d44e16ae0b5d739d5c8993",
       "value": "<p style='font-family: IBM Plex Sans, Arial, Helvetica, sans-serif; font-size: 20px; font-weight: medium;'>Circuit Properties</p>"
      }
     },
     "fc3dd3c51b5547178dbd2046699aa23e": {
      "model_module": "@jupyter-widgets/controls",
      "model_module_version": "2.0.0",
      "model_name": "HTMLStyleModel",
      "state": {
       "description_width": "",
       "font_size": null,
       "text_color": null
      }
     }
    },
    "version_major": 2,
    "version_minor": 0
   }
  }
 },
 "nbformat": 4,
 "nbformat_minor": 5
}
