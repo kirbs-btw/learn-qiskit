{
 "cells": [
  {
   "cell_type": "code",
   "execution_count": 1,
   "id": "f3f32b85-73f7-491f-8c5a-78f3b546d218",
   "metadata": {
    "tags": []
   },
   "outputs": [
    {
     "name": "stderr",
     "output_type": "stream",
     "text": [
      "qiskit_runtime_service.__init__:INFO:2024-02-21 14:38:54,755: Default instance: ibm-q/open/main\n"
     ]
    }
   ],
   "source": [
    "# Importing standard Qiskit libraries\n",
    "from qiskit import QuantumCircuit, transpile\n",
    "from qiskit.tools.jupyter import *\n",
    "from qiskit.visualization import *\n",
    "from ibm_quantum_widgets import *\n",
    "\n",
    "# qiskit-ibmq-provider has been deprecated.\n",
    "# Please see the Migration Guides in https://ibm.biz/provider_migration_guide for more detail.\n",
    "from qiskit_ibm_runtime import QiskitRuntimeService, Sampler, Estimator, Session, Options\n",
    "\n",
    "# Loading your IBM Quantum account(s)\n",
    "service = QiskitRuntimeService(channel=\"ibm_quantum\")\n",
    "\n",
    "# Invoke a primitive. For more details see https://docs.quantum.ibm.com/run/primitives\n",
    "# result = Sampler().run(circuits).result()"
   ]
  },
  {
   "cell_type": "code",
   "execution_count": 11,
   "id": "bda4295d-fcd0-4340-8615-d134e48844e4",
   "metadata": {
    "tags": []
   },
   "outputs": [
    {
     "data": {
      "text/plain": [
       "[Qubit(QuantumRegister(2, 'q'), 0), Qubit(QuantumRegister(2, 'q'), 1)]"
      ]
     },
     "execution_count": 11,
     "metadata": {},
     "output_type": "execute_result"
    }
   ],
   "source": [
    "# init a circuit with two inputs\n",
    "\n",
    "qc = QuantumCircuit(2)\n",
    "qc.qubits"
   ]
  },
  {
   "cell_type": "code",
   "execution_count": 4,
   "id": "efc888a4-4e5d-4496-94da-da4e6ea8904d",
   "metadata": {
    "tags": []
   },
   "outputs": [
    {
     "data": {
      "image/png": "[encoded data removed]",
      "text/plain": [
       "<Figure size 161.878x200.667 with 1 Axes>"
      ]
     },
     "execution_count": 4,
     "metadata": {},
     "output_type": "execute_result"
    }
   ],
   "source": [
    "qc.draw('mpl')"
   ]
  },
  {
   "cell_type": "code",
   "execution_count": 12,
   "id": "dbab0c5d-7c15-4efd-934b-f919be703078",
   "metadata": {
    "tags": []
   },
   "outputs": [
    {
     "data": {
      "text/plain": [
       "<qiskit.circuit.instructionset.InstructionSet at 0x7f06694b8130>"
      ]
     },
     "execution_count": 12,
     "metadata": {},
     "output_type": "execute_result"
    }
   ],
   "source": [
    "# adding a X gate to the qubit 0\n",
    "# qc = circuit \n",
    "# .x = x gate\n",
    "# (0) = qubit 0\n",
    "\n",
    "qc.x(0)"
   ]
  },
  {
   "cell_type": "code",
   "execution_count": 13,
   "id": "16822703-b8be-4033-b720-0ce1f565bb0a",
   "metadata": {
    "tags": []
   },
   "outputs": [
    {
     "data": {
      "image/png": "[encoded data removed]",
      "text/plain": [
       "<Figure size 203.683x200.667 with 1 Axes>"
      ]
     },
     "execution_count": 13,
     "metadata": {},
     "output_type": "execute_result"
    }
   ],
   "source": [
    "qc.draw(\"mpl\")"
   ]
  },
  {
   "cell_type": "code",
   "execution_count": 14,
   "id": "e5d535ff-526b-434e-ab09-95bf23203ceb",
   "metadata": {
    "tags": []
   },
   "outputs": [
    {
     "data": {
      "image/png": "[encoded data removed]",
      "text/plain": [
       "<Figure size 185.453x117.056 with 1 Axes>"
      ]
     },
     "execution_count": 14,
     "metadata": {},
     "output_type": "execute_result"
    }
   ],
   "source": [
    "qc.data[0].operation.definition.draw(\"mpl\")"
   ]
  },
  {
   "cell_type": "code",
   "execution_count": 15,
   "id": "c8358668-0593-4d04-a510-ff2e7a87f2cc",
   "metadata": {
    "tags": []
   },
   "outputs": [
    {
     "name": "stderr",
     "output_type": "stream",
     "text": [
      "/opt/conda/lib/python3.10/site-packages/qiskit/visualization/circuit/matplotlib.py:266: FutureWarning: The default matplotlib drawer scheme will be changed to \"iqp\" in a following release. To silence this warning, specify the current default explicitly as style=\"clifford\", or the new default as style=\"iqp\".\n",
      "  self._style, def_font_ratio = load_style(self._style)\n"
     ]
    },
    {
     "data": {
      "image/png": "[encoded data removed]",
      "text/plain": [
       "<Figure size 203.683x200.667 with 1 Axes>"
      ]
     },
     "execution_count": 15,
     "metadata": {},
     "output_type": "execute_result"
    }
   ],
   "source": [
    "from qiskit.circuit.library import HGate\n",
    "# reseting the circuit from before \n",
    "\n",
    "# 1 = num of 'inputs'\n",
    "qc = QuantumCircuit(2)\n",
    "qc.append(\n",
    "    HGate(), # new hgate\n",
    "    [1]      # to qubit 1\n",
    ")\n",
    "\n",
    "qc.draw('mpl')"
   ]
  },
  {
   "cell_type": "code",
   "execution_count": 29,
   "id": "c4ec6dca-8242-4df8-91e3-319be861b40d",
   "metadata": {
    "tags": []
   },
   "outputs": [
    {
     "data": {
      "image/png": "[encoded data removed]",
      "text/plain": [
       "<Figure size 538.33x367.889 with 1 Axes>"
      ]
     },
     "execution_count": 29,
     "metadata": {},
     "output_type": "execute_result"
    }
   ],
   "source": [
    "# quantum circuit combination \n",
    "\n",
    "qc_a = QuantumCircuit(4, name=\"qc_a\")\n",
    "qc_a.x(1)\n",
    "qc_a.append(\n",
    "    HGate(), # new hgate\n",
    "    [0]      # to qubit 1\n",
    ")\n",
    "\n",
    "qc_b = QuantumCircuit(2, name=\"qc_b\")\n",
    "qc_b.y(0)\n",
    "qc_b.z(1)\n",
    "\n",
    "# adding q0 from qc_b to qc_a q0 mapped to the position q1 and q1 mappend to q3\n",
    "# combined = qc_a.compose(qc_b, qubits=[1, 3])\n",
    "# combined.draw(\"mpl\")\n",
    "\n",
    "inst = qc_b.to_instruction()\n",
    "qc_a.append(inst, [1, 3])\n",
    "\n",
    "\n",
    "gate = qc_b.to_gate().control()\n",
    "qc_a.append(gate, [0, 2, 3])\n",
    "qc_a.draw(\"mpl\")"
   ]
  },
  {
   "cell_type": "code",
   "execution_count": 30,
   "id": "949aedc8-8c1f-43e8-8b4f-a8e604469144",
   "metadata": {
    "tags": []
   },
   "outputs": [
    {
     "data": {
      "image/png": "[encoded data removed]",
      "text/plain": [
       "<Figure size 621.941x367.889 with 1 Axes>"
      ]
     },
     "execution_count": 30,
     "metadata": {},
     "output_type": "execute_result"
    }
   ],
   "source": [
    "qc_a.decompose().draw(\"mpl\")"
   ]
  }
 ],
 "metadata": {
  "kernelspec": {
   "display_name": "Qiskit v0.45.3 (ipykernel)",
   "language": "python",
   "name": "python3"
  },
  "language_info": {
   "codemirror_mode": {
    "name": "ipython",
    "version": 3
   },
   "file_extension": ".py",
   "mimetype": "text/x-python",
   "name": "python",
   "nbconvert_exporter": "python",
   "pygments_lexer": "ipython3",
   "version": "3.10.8"
  },
  "widgets": {
   "application/vnd.jupyter.widget-state+json": {
    "state": {
     "044102d121f04376b5c8005a0c24402b": {
      "model_module": "@jupyter-widgets/controls",
      "model_module_version": "2.0.0",
      "model_name": "HTMLModel",
      "state": {
       "layout": "IPY_MODEL_a767d5f6c9144f849f8d65efea4a625b",
       "style": "IPY_MODEL_58dca74fdcbd4066ab03b008ff2289fb",
       "value": "<h5>Backend</h5>"
      }
     },
     "0b41bf358ad04d26832c70435bc5a273": {
      "model_module": "@jupyter-widgets/base",
      "model_module_version": "2.0.0",
      "model_name": "LayoutModel",
      "state": {}
     },
     "0c8fdeeb388a47eda25459f87fa5e75a": {
      "model_module": "@jupyter-widgets/base",
      "model_module_version": "2.0.0",
      "model_name": "LayoutModel",
      "state": {
       "width": "70px"
      }
     },
     "291efe52c4db4785805032711eaee033": {
      "model_module": "@jupyter-widgets/base",
      "model_module_version": "2.0.0",
      "model_name": "LayoutModel",
      "state": {
       "width": "190px"
      }
     },
     "31e56d1ae9b342ff8e383d47ba78d528": {
      "model_module": "@jupyter-widgets/controls",
      "model_module_version": "2.0.0",
      "model_name": "HTMLStyleModel",
      "state": {
       "description_width": "",
       "font_size": null,
       "text_color": null
      }
     },
     "41bb1b0462ea4359992c04a9ba1b1bf0": {
      "model_module": "@jupyter-widgets/controls",
      "model_module_version": "2.0.0",
      "model_name": "HTMLModel",
      "state": {
       "layout": "IPY_MODEL_291efe52c4db4785805032711eaee033",
       "style": "IPY_MODEL_96fcbf3811e54d7aa676bad726a095e2",
       "value": "<h5>Job ID</h5>"
      }
     },
     "4ad1be5e30934a3a81c2e96ecf274513": {
      "model_module": "@jupyter-widgets/controls",
      "model_module_version": "2.0.0",
      "model_name": "HTMLStyleModel",
      "state": {
       "description_width": "",
       "font_size": null,
       "text_color": null
      }
     },
     "58dca74fdcbd4066ab03b008ff2289fb": {
      "model_module": "@jupyter-widgets/controls",
      "model_module_version": "2.0.0",
      "model_name": "HTMLStyleModel",
      "state": {
       "description_width": "",
       "font_size": null,
       "text_color": null
      }
     },
     "6bad0c3cefb24dcba9f24c548a94f8ad": {
      "model_module": "@jupyter-widgets/controls",
      "model_module_version": "2.0.0",
      "model_name": "ButtonStyleModel",
      "state": {
       "font_family": null,
       "font_size": null,
       "font_style": null,
       "font_variant": null,
       "font_weight": null,
       "text_color": null,
       "text_decoration": null
      }
     },
     "701028775894422990e73867cd0952ab": {
      "model_module": "@jupyter-widgets/base",
      "model_module_version": "2.0.0",
      "model_name": "LayoutModel",
      "state": {
       "margin": "0px 0px 0px 37px",
       "width": "600px"
      }
     },
     "7c97c51a8a7646df9cd7ec83b29e5702": {
      "model_module": "@jupyter-widgets/controls",
      "model_module_version": "2.0.0",
      "model_name": "GridBoxModel",
      "state": {
       "children": [
        "IPY_MODEL_98c790aac1b9415180219c0816c3cc31"
       ],
       "layout": "IPY_MODEL_9330450ed75245bd827c5b167cca2017"
      }
     },
     "837aaef3a9584088872548883957a4e6": {
      "model_module": "@jupyter-widgets/base",
      "model_module_version": "2.0.0",
      "model_name": "LayoutModel",
      "state": {
       "margin": "0px 0px 10px 0px"
      }
     },
     "8cd196467c424b8db01b1b9735d83829": {
      "model_module": "@jupyter-widgets/controls",
      "model_module_version": "2.0.0",
      "model_name": "HTMLModel",
      "state": {
       "layout": "IPY_MODEL_0b41bf358ad04d26832c70435bc5a273",
       "style": "IPY_MODEL_31e56d1ae9b342ff8e383d47ba78d528",
       "value": "<h5>Message</h5>"
      }
     },
     "9330450ed75245bd827c5b167cca2017": {
      "model_module": "@jupyter-widgets/base",
      "model_module_version": "2.0.0",
      "model_name": "LayoutModel",
      "state": {
       "grid_template_areas": "\n                                       \". . . . right \"\n                                        ",
       "grid_template_columns": "20% 20% 20% 20% 20%",
       "width": "100%"
      }
     },
     "96fcbf3811e54d7aa676bad726a095e2": {
      "model_module": "@jupyter-widgets/controls",
      "model_module_version": "2.0.0",
      "model_name": "HTMLStyleModel",
      "state": {
       "description_width": "",
       "font_size": null,
       "text_color": null
      }
     },
     "98c790aac1b9415180219c0816c3cc31": {
      "model_module": "@jupyter-widgets/controls",
      "model_module_version": "2.0.0",
      "model_name": "ButtonModel",
      "state": {
       "button_style": "primary",
       "description": "Clear",
       "layout": "IPY_MODEL_f3981509fc7049eeb89157c9e482a9e2",
       "style": "IPY_MODEL_6bad0c3cefb24dcba9f24c548a94f8ad",
       "tooltip": null
      }
     },
     "a767d5f6c9144f849f8d65efea4a625b": {
      "model_module": "@jupyter-widgets/base",
      "model_module_version": "2.0.0",
      "model_name": "LayoutModel",
      "state": {
       "width": "145px"
      }
     },
     "b7b3c8bbe90b4f68920402cf990d40df": {
      "model_module": "@jupyter-widgets/controls",
      "model_module_version": "2.0.0",
      "model_name": "HTMLModel",
      "state": {
       "layout": "IPY_MODEL_cdc539239ff3433e95cea7de053cd5c9",
       "style": "IPY_MODEL_4ad1be5e30934a3a81c2e96ecf274513",
       "value": "<h5>Status</h5>"
      }
     },
     "cdc539239ff3433e95cea7de053cd5c9": {
      "model_module": "@jupyter-widgets/base",
      "model_module_version": "2.0.0",
      "model_name": "LayoutModel",
      "state": {
       "width": "95px"
      }
     },
     "d1a06900db6d476287cc327b43e0b7cb": {
      "model_module": "@jupyter-widgets/controls",
      "model_module_version": "2.0.0",
      "model_name": "HTMLModel",
      "state": {
       "layout": "IPY_MODEL_0c8fdeeb388a47eda25459f87fa5e75a",
       "style": "IPY_MODEL_d5610630c6b24fb4866296459f207d91",
       "value": "<h5>Queue</h5>"
      }
     },
     "d35a374691eb4926a30ee923137b05ff": {
      "model_module": "@jupyter-widgets/controls",
      "model_module_version": "2.0.0",
      "model_name": "HTMLStyleModel",
      "state": {
       "description_width": "",
       "font_size": null,
       "text_color": null
      }
     },
     "d5610630c6b24fb4866296459f207d91": {
      "model_module": "@jupyter-widgets/controls",
      "model_module_version": "2.0.0",
      "model_name": "HTMLStyleModel",
      "state": {
       "description_width": "",
       "font_size": null,
       "text_color": null
      }
     },
     "e74531fe48ae4f638f6deb9223568dae": {
      "model_module": "@jupyter-widgets/controls",
      "model_module_version": "2.0.0",
      "model_name": "HBoxModel",
      "state": {
       "children": [
        "IPY_MODEL_41bb1b0462ea4359992c04a9ba1b1bf0",
        "IPY_MODEL_044102d121f04376b5c8005a0c24402b",
        "IPY_MODEL_b7b3c8bbe90b4f68920402cf990d40df",
        "IPY_MODEL_d1a06900db6d476287cc327b43e0b7cb",
        "IPY_MODEL_8cd196467c424b8db01b1b9735d83829"
       ],
       "layout": "IPY_MODEL_701028775894422990e73867cd0952ab"
      }
     },
     "f3981509fc7049eeb89157c9e482a9e2": {
      "model_module": "@jupyter-widgets/base",
      "model_module_version": "2.0.0",
      "model_name": "LayoutModel",
      "state": {
       "grid_area": "right",
       "padding": "0px 0px 0px 0px",
       "width": "70px"
      }
     },
     "fc446407bca44fa2ad7a76ca466b4d56": {
      "model_module": "@jupyter-widgets/controls",
      "model_module_version": "2.0.0",
      "model_name": "HTMLModel",
      "state": {
       "layout": "IPY_MODEL_837aaef3a9584088872548883957a4e6",
       "style": "IPY_MODEL_d35a374691eb4926a30ee923137b05ff",
       "value": "<p style='font-family: IBM Plex Sans, Arial, Helvetica, sans-serif; font-size: 20px; font-weight: medium;'>Circuit Properties</p>"
      }
     }
    },
    "version_major": 2,
    "version_minor": 0
   }
  }
 },
 "nbformat": 4,
 "nbformat_minor": 5
}
